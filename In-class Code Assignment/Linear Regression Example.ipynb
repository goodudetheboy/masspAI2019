{
 "cells": [
  {
   "cell_type": "code",
   "execution_count": null,
   "metadata": {},
   "outputs": [],
   "source": []
  },
  {
   "cell_type": "code",
   "execution_count": 14,
   "metadata": {},
   "outputs": [
    {
     "data": {
      "image/png": "[encoded data removed]",
      "text/plain": [
       "<Figure size 432x288 with 1 Axes>"
      ]
     },
     "metadata": {
      "needs_background": "light"
     },
     "output_type": "display_data"
    },
    {
     "name": "stdout",
     "output_type": "stream",
     "text": [
      "w =  [[49.50312457]\n",
      " [ 0.05355436]]\n"
     ]
    },
    {
     "data": {
      "image/png": "[encoded data removed]",
      "text/plain": [
       "<Figure size 432x288 with 1 Axes>"
      ]
     },
     "metadata": {
      "needs_background": "light"
     },
     "output_type": "display_data"
    },
    {
     "name": "stdout",
     "output_type": "stream",
     "text": [
      "Dự đoán cân nặng của người có chiều cao 155 cm: 57.80 (kg), số liệu thật: 52 (kg)\n",
      "Dự đoán cân nặng của người có chiều cao 160 cm: 58.07 (kg), số liệu thật: 56 (kg)\n",
      "Nghiệm tìm được bằng scikit-learn  :  [[49.50312457  0.05355436]]\n",
      "Nghiệm tìm được từ phương trình (5):  [[49.50312457  0.05355436]]\n",
      "w =  [[22.21867545]\n",
      " [ 0.23775985]]\n"
     ]
    },
    {
     "data": {
      "image/png": "[encoded data removed]",
      "text/plain": [
       "<Figure size 432x288 with 1 Axes>"
      ]
     },
     "metadata": {
      "needs_background": "light"
     },
     "output_type": "display_data"
    }
   ],
   "source": [
    "import numpy as np \n",
    "import matplotlib.pyplot as plt\n",
    "# height (cm)\n",
    "X = np.array([[147, 150, 153, 158, 163, 165, 168, 170, 173, 175, 178, 180, 400]]).T # setting array for height \n",
    "# weight (kg)\n",
    "y = np.array([[ 49, 50, 51,  54, 58, 59, 60, 62, 63, 64, 66, 67, 68]]).T # setting array for weight\n",
    "# Visualize data \n",
    "plt.plot(X, y, 'ro') # declaring plot\n",
    "plt.axis([140, 190, 45, 75]) # setting max axis i guess\n",
    "plt.xlabel('Height (cm)') # setting labels for graph\n",
    "plt.ylabel('Weight (kg)')\n",
    "plt.show() # show graph\n",
    "# Building Xbar \n",
    "one = np.ones((X.shape[0], 1)) # declaring an array of size X[0].shape filled with ones\n",
    "Xbar = np.concatenate((one, X), axis = 1) # concatenating one and X\n",
    "\n",
    "# Calculating weights of the fitting line \n",
    "A = np.dot(Xbar.T, Xbar) \n",
    "b = np.dot(Xbar.T, y)\n",
    "w = np.dot(np.linalg.pinv(A), b)\n",
    "print('w = ', w)\n",
    "# Preparing the fitting line \n",
    "w_0 = w[0][0]\n",
    "w_1 = w[1][0]\n",
    "x0 = np.linspace(145, 185, 2, endpoint=True)\n",
    "y0 = w_0 + w_1*x0\n",
    "\n",
    "# Drawing the fitting line \n",
    "plt.plot(X.T, y.T, 'ro')     # data \n",
    "plt.plot(x0, y0)               # the fitting line\n",
    "plt.axis([140, 190, 45, 75])\n",
    "plt.xlabel('Height (cm)')\n",
    "plt.ylabel('Weight (kg)')\n",
    "plt.show()\n",
    "\n",
    "y1 = w_1*155 + w_0\n",
    "y2 = w_1*160 + w_0\n",
    "\n",
    "print (u'Dự đoán cân nặng của người có chiều cao 155 cm: %.2f (kg), số liệu thật: 52 (kg)'  %(y1) )\n",
    "print (u'Dự đoán cân nặng của người có chiều cao 160 cm: %.2f (kg), số liệu thật: 56 (kg)'  %(y2))\n",
    "\n",
    "\n",
    "from sklearn import datasets, linear_model\n",
    "\n",
    "# fit the model by Linear Regression\n",
    "regr = linear_model.LinearRegression(fit_intercept=False) # fit_intercept = False for calculating the bias\n",
    "regr.fit(Xbar, y)\n",
    "\n",
    "# Compare two results\n",
    "print (u'Nghiệm tìm được bằng scikit-learn  : ', regr.coef_ )\n",
    "print (u'Nghiệm tìm được từ phương trình (5): ', w.T)\n",
    "import numpy as np \n",
    "import matplotlib.pyplot as plt\n",
    "\n",
    "# height (cm)\n",
    "X = np.array([[147, 150, 153, 158, 163, 165, 168, 170, 173, 175, 178, 180, 183, 150]]).T\n",
    "# weight (kg)\n",
    "y = np.array([[ 49, 50, 51,  54, 58, 59, 60, 62, 63, 64, 66, 67, 68, 90]]).T\n",
    "\n",
    "# Building Xbar \n",
    "one = np.ones((X.shape[0], 1))\n",
    "Xbar = np.concatenate((one, X), axis = 1)\n",
    "\n",
    "# Calculating weights of the fitting line \n",
    "A = np.dot(Xbar.T, Xbar)\n",
    "b = np.dot(Xbar.T, y)\n",
    "w = np.dot(np.linalg.pinv(A), b)\n",
    "print ('w = ', w)\n",
    "# Preparing the fitting line \n",
    "w_0 = w[0][0]\n",
    "w_1 = w[1][0]\n",
    "x0 = np.linspace(145, 185, 2, endpoint=True)\n",
    "y0 = w_0 + w_1*x0\n",
    "\n",
    "# Drawing the fitting line \n",
    "plt.plot(X, y, 'ro')     # data \n",
    "plt.plot(x0, y0)               # the fitting line\n",
    "plt.axis([140, 190, 45, 95])\n",
    "plt.xlabel('Height (cm)')\n",
    "plt.ylabel('Weight (kg)')\n",
    "plt.show()"
   ]
  },
  {
   "cell_type": "code",
   "execution_count": null,
   "metadata": {},
   "outputs": [],
   "source": []
  },
  {
   "cell_type": "code",
   "execution_count": null,
   "metadata": {},
   "outputs": [],
   "source": []
  },
  {
   "cell_type": "code",
   "execution_count": null,
   "metadata": {},
   "outputs": [],
   "source": []
  }
 ],
 "metadata": {
  "kernelspec": {
   "display_name": "Python 3",
   "language": "python",
   "name": "python3"
  },
  "language_info": {
   "codemirror_mode": {
    "name": "ipython",
    "version": 3
   },
   "file_extension": ".py",
   "mimetype": "text/x-python",
   "name": "python",
   "nbconvert_exporter": "python",
   "pygments_lexer": "ipython3",
   "version": "3.7.3"
  }
 },
 "nbformat": 4,
 "nbformat_minor": 2
}
